{
 "cells": [
  {
   "cell_type": "markdown",
   "metadata": {},
   "source": [
    "## while loop\n",
    "while loop is another way to repeat some fragment of code. The loop is repeated as long as some condition is True."
   ]
  },
  {
   "cell_type": "code",
   "execution_count": null,
   "metadata": {},
   "outputs": [],
   "source": [
    "i = 0\n",
    "while i < 5:\n",
    "    print(i)\n",
    "    i = i + 1"
   ]
  },
  {
   "cell_type": "markdown",
   "metadata": {},
   "source": [
    "## break / continue"
   ]
  },
  {
   "cell_type": "markdown",
   "metadata": {},
   "source": [
    "The execution of both loop (for and while) can be interrupted using **break** and **continue**. Analyze examples below to figure out how they behave."
   ]
  },
  {
   "cell_type": "code",
   "execution_count": null,
   "metadata": {},
   "outputs": [],
   "source": [
    "print(\"continue\")\n",
    "i = 0\n",
    "while i < 5:\n",
    "    i += 1\n",
    "    if i == 2:\n",
    "        continue\n",
    "    print(i)\n",
    "\n",
    "print(\"break\")\n",
    "i = 0\n",
    "while i < 5:\n",
    "    i += 1\n",
    "    if i == 2:\n",
    "        break\n",
    "    print(i)"
   ]
  },
  {
   "cell_type": "markdown",
   "metadata": {},
   "source": [
    "## while else\n",
    "You can add else after while loop. The code will execute once when the condition is no longer True.\n",
    "It will not execute when you break the loop."
   ]
  },
  {
   "cell_type": "code",
   "execution_count": null,
   "metadata": {},
   "outputs": [],
   "source": [
    "while True:\n",
    "    break\n",
    "else:\n",
    "    print(\"This will not be printed!\")\n",
    "    \n",
    "i = 0\n",
    "while i < 2:\n",
    "    print(i)\n",
    "    i += 1\n",
    "else:\n",
    "    print(\"Hello one time!\")"
   ]
  },
  {
   "cell_type": "markdown",
   "metadata": {},
   "source": [
    "## for else\n",
    "You can also add else after for loop. The code will execute if you do NOT use break."
   ]
  },
  {
   "cell_type": "code",
   "execution_count": null,
   "metadata": {},
   "outputs": [],
   "source": [
    "for i in [1,2,3]:\n",
    "    break\n",
    "else:\n",
    "    print(\"This will not be printed!\")\n",
    "\n",
    "for i in [1,2,3]:\n",
    "    print(i)\n",
    "else:\n",
    "    print(\"Hello one time!\")\n"
   ]
  },
  {
   "cell_type": "markdown",
   "metadata": {},
   "source": [
    "## Processing all elements and creating list - map and list comprehension\n"
   ]
  },
  {
   "cell_type": "code",
   "execution_count": null,
   "metadata": {},
   "outputs": [],
   "source": [
    "l = ['1', '2', '3']\n",
    "\n",
    "print(\"List comprehension\")\n",
    "l1 = [int(x) for x in l]\n",
    "print(l1)\n",
    "l2 = [a*a for a in l1]\n",
    "print(l2)\n",
    "\n",
    "print(\"Map\")\n",
    "lm1 = list(map(int, l))\n",
    "print(lm1)\n",
    "lm2 = list(map(lambda x: x*x, l1))\n",
    "print(lm2)"
   ]
  },
  {
   "cell_type": "markdown",
   "metadata": {},
   "source": [
    "## Exercises\n",
    "\n",
    "Exercises for this Labs can be found on ekursy.put.poznan.pl\n",
    "\n",
    "Please note, that there are deadlines for them."
   ]
  },
  {
   "cell_type": "markdown",
   "metadata": {},
   "source": [
    "## Curiosity\n",
    "Below is an example of code that process the image. To use it you may have to install cImage:\n",
    "```\n",
    "pip install cImage\n",
    "```\n",
    "If code below successfully import image, but fails on loading image with image.FileImage you may have wrong image module installed. Try reinstalling with the following commands:\n",
    "\n",
    "```\n",
    "pip uninstall cImage\n",
    "pip uninstall PIL\n",
    "pip uninstall Pillow\n",
    "pip uninstall image\n",
    "pip install cImage\n",
    "```\n",
    "\n",
    "1. In the example below  we remove red colour from image. Analyze the code and try to write some other filters\n",
    "    - convert to greyscale\n",
    "    - convert to black-white\n",
    "    - convert to sepia\n",
    "\n",
    "2. Try to make the image 2 times bigger.\n",
    "\n",
    "3. Try to detect edges using Sobel detection algorithm (image.png may be better for this)"
   ]
  },
  {
   "cell_type": "code",
   "execution_count": null,
   "metadata": {},
   "outputs": [],
   "source": [
    "import image \n",
    "\n",
    "# we load the image\n",
    "img =image.FileImage(\"LutherBellPic.jpg\")\n",
    "\n",
    "# we can check sizes with those functions\n",
    "print(img.getWidth(), img.getHeight())\n",
    "\n",
    "# we create new image with appropriate sizes\n",
    "newimg = image.EmptyImage(img.getWidth(), img.getHeight())\n",
    "\n",
    "# we can get each pixel using its position\n",
    "print(img.getPixel(0, 0))\n",
    "\n",
    "# pixel is represented as RGB. we can get each color\n",
    "print(img.getPixel(0, 0).getBlue())\n",
    "\n",
    "for col in range(img.getWidth()):\n",
    "    for row in range(img.getHeight()):\n",
    "        p = img.getPixel(col, row)\n",
    "\n",
    "        newred = 0\n",
    "        green = p.getGreen()\n",
    "        blue = p.getBlue()\n",
    "\n",
    "        # we create pixel with some values\n",
    "        # and set this pixel in appropriate location in new image\n",
    "        newpixel = image.Pixel(newred, green, blue)\n",
    "        newimg.setPixel(col, row, newpixel)\n",
    "\n",
    "# we save new file\n",
    "newimg.save('bell_without_red.jpg')"
   ]
  }
 ],
 "metadata": {
  "kernelspec": {
   "display_name": "Python 3",
   "language": "python",
   "name": "python3"
  },
  "language_info": {
   "codemirror_mode": {
    "name": "ipython",
    "version": 3
   },
   "file_extension": ".py",
   "mimetype": "text/x-python",
   "name": "python",
   "nbconvert_exporter": "python",
   "pygments_lexer": "ipython3",
   "version": "3.9.0"
  }
 },
 "nbformat": 4,
 "nbformat_minor": 2
}
