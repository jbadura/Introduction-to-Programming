{
 "cells": [
  {
   "cell_type": "markdown",
   "metadata": {},
   "source": [
    "## Boolean type\n",
    "In Python (and almost all other languages) we have two special values **True** and **False** that are of special type **bool**."
   ]
  },
  {
   "cell_type": "code",
   "execution_count": null,
   "metadata": {},
   "outputs": [],
   "source": [
    "print(True, False, type(True), type(False))"
   ]
  },
  {
   "cell_type": "markdown",
   "metadata": {},
   "source": [
    "We have some operations that results in **bool** value: < > <= >= == !=\n",
    "\n",
    "They are usually called comparison operators.\n",
    "\n",
    "Experiment and figure out, how they work."
   ]
  },
  {
   "cell_type": "code",
   "execution_count": null,
   "metadata": {},
   "outputs": [],
   "source": [
    "print(2 < 3)"
   ]
  },
  {
   "cell_type": "markdown",
   "metadata": {},
   "source": [
    "We also have some special operators that work between **bool** values. We call them logical operators."
   ]
  },
  {
   "cell_type": "code",
   "execution_count": null,
   "metadata": {},
   "outputs": [],
   "source": [
    "print(True and True)\n",
    "print(True and False)\n",
    "print(True or False)\n",
    "print(False or False)\n",
    "print(not True, not False)"
   ]
  },
  {
   "cell_type": "markdown",
   "metadata": {},
   "source": [
    "Write the logical opposites of given expressions (do not use **not**) (you do not have to write a working code)\n",
    "```\n",
    "a > b\n",
    "a <= b\n",
    "a > 10 and b != 7\n",
    "a > 10 or b == 7\n",
    "```"
   ]
  },
  {
   "cell_type": "markdown",
   "metadata": {},
   "source": [
    "What is the order of operations in Python? Consider brackets (), math operations, comparison operators and logical operators."
   ]
  },
  {
   "cell_type": "code",
   "execution_count": null,
   "metadata": {},
   "outputs": [],
   "source": []
  },
  {
   "cell_type": "markdown",
   "metadata": {},
   "source": [
    "## If statement\n",
    "We can control whether some code will execute or nor using **if**\n",
    "```\n",
    "if condition:\n",
    "    some code\n",
    "```\n",
    "In the example above ***condition*** must be something that results in **bool** value (or can be cast to bool value)\n",
    "The ***some code*** part will execute only if ***condition*** is **True**.\n",
    "\n",
    "We can also make if else\n",
    "```\n",
    "if condition:\n",
    "    some code\n",
    "else:\n",
    "    other code\n",
    "```\n",
    "In this example, same as before, ***some code*** will execute if ***condition*** is **True**. However ***other code*** will execute when ***condition*** is **False**"
   ]
  },
  {
   "cell_type": "code",
   "execution_count": null,
   "metadata": {},
   "outputs": [],
   "source": [
    "if 2 > 1:\n",
    "    print(\"2 is greater than 1\")\n",
    "else:\n",
    "    print(\"This code should not be printed\")\n",
    "    \n",
    "if 2 < 1:\n",
    "    print(\"This code should not be printed as well\")\n",
    "else:\n",
    "    print(\"2 is not smaller than 1\")"
   ]
  },
  {
   "cell_type": "markdown",
   "metadata": {},
   "source": [
    "## Functions\n",
    "Functions let you isolate some parts of code to better organize your program. Let us write some simple function that writes some lines."
   ]
  },
  {
   "cell_type": "code",
   "execution_count": null,
   "metadata": {},
   "outputs": [],
   "source": [
    "def print_some_lines():\n",
    "    print(\"1 line\")\n",
    "    print(\"2 line\")\n",
    "    print(\"3 line\")"
   ]
  },
  {
   "cell_type": "markdown",
   "metadata": {},
   "source": [
    "Running the above cell did not print anything. It, however, prepared a function, we can now use."
   ]
  },
  {
   "cell_type": "code",
   "execution_count": null,
   "metadata": {},
   "outputs": [],
   "source": [
    "print_some_lines()"
   ]
  },
  {
   "cell_type": "markdown",
   "metadata": {},
   "source": [
    "We can pass arguments to functions to make them more interesting. You can pass as many arguments as you want."
   ]
  },
  {
   "cell_type": "code",
   "execution_count": null,
   "metadata": {},
   "outputs": [],
   "source": [
    "def some_function(n):\n",
    "    print(\"You passed\", n, \"to this function!\")"
   ]
  },
  {
   "cell_type": "code",
   "execution_count": null,
   "metadata": {},
   "outputs": [],
   "source": [
    "some_function(1)\n",
    "some_function(2)\n",
    "a = 10\n",
    "some_function(a)"
   ]
  },
  {
   "cell_type": "markdown",
   "metadata": {},
   "source": [
    "Functions can also return values."
   ]
  },
  {
   "cell_type": "code",
   "execution_count": null,
   "metadata": {},
   "outputs": [],
   "source": [
    "def simple_sum(a, b):\n",
    "    res = a + b\n",
    "    return res"
   ]
  },
  {
   "cell_type": "code",
   "execution_count": null,
   "metadata": {},
   "outputs": [],
   "source": [
    "print(simple_sum(1, 2))\n",
    "a = simple_sum(4, 5)\n",
    "print(a)"
   ]
  },
  {
   "cell_type": "markdown",
   "metadata": {},
   "source": [
    "## Exercises\n",
    "1. Write a function that prints \"Hello World!\" the number of times specified by the argument."
   ]
  },
  {
   "cell_type": "code",
   "execution_count": null,
   "metadata": {},
   "outputs": [],
   "source": [
    "def print_hello(n):\n",
    "    print(\"Hello World!\")\n",
    "    \n",
    "print_hello(5) # We expect to see 5 Hello World!"
   ]
  },
  {
   "cell_type": "markdown",
   "metadata": {},
   "source": [
    "2. Write a function that returns the sum of all the numbers between **a** and **b** (included). You can assume that **a** < **b**."
   ]
  },
  {
   "cell_type": "code",
   "execution_count": null,
   "metadata": {},
   "outputs": [],
   "source": [
    "def sum_all_between(a, b):\n",
    "    \n",
    "    return \n",
    "\n",
    "if sum_all_between(1, 2) == 3 and sum_all_between(4, 10) == 49 and sum_all_between(1, 100) == 5050:\n",
    "    print(\"Correct!\")\n",
    "else:\n",
    "    print(\"Incorrect!\")"
   ]
  },
  {
   "cell_type": "markdown",
   "metadata": {},
   "source": [
    "3. Write a function that returns the sum of squares of numbers given in a list."
   ]
  },
  {
   "cell_type": "code",
   "execution_count": null,
   "metadata": {},
   "outputs": [],
   "source": [
    "def sum_squares_in_list(l):\n",
    "    \n",
    "    return \n",
    "\n",
    "if sum_squares_in_list([1, 2]) == 5 and sum_squares_in_list([2, 4, 5, 6]) == 81 and sum_squares_in_list([-2, -3, 10]) == 113:\n",
    "    print(\"Correct!\")\n",
    "else:\n",
    "    print(\"Incorrect!\")"
   ]
  },
  {
   "cell_type": "markdown",
   "metadata": {},
   "source": [
    "4. Write a function that returns the maximal number from a list."
   ]
  },
  {
   "cell_type": "code",
   "execution_count": null,
   "metadata": {},
   "outputs": [],
   "source": [
    "def max(l):\n",
    "\n",
    "    return \n",
    "\n",
    "if max([1, 2]) == 2 and max([2, 40, 5, 6]) == 40 and max([-2, -3, -10]) == -2:\n",
    "    print(\"Correct!\")\n",
    "else:\n",
    "    print(\"Incorrect!\")"
   ]
  },
  {
   "cell_type": "markdown",
   "metadata": {},
   "source": [
    "5. Write a function that returns **True** when the given number is prime."
   ]
  },
  {
   "cell_type": "code",
   "execution_count": null,
   "metadata": {},
   "outputs": [],
   "source": [
    "def is_prime(n):\n",
    "\n",
    "    return \n",
    "\n",
    "if is_prime(3) and not is_prime(4) and is_prime(5) and not is_prime(6) and is_prime(7) and not is_prime(8) and not is_prime(9) and not is_prime(10) and is_prime(11) and not is_prime(12) and is_prime(13) and not is_prime(14):\n",
    "    print(\"Correct!\")\n",
    "else:\n",
    "    print(\"Incorrect!\")"
   ]
  },
  {
   "cell_type": "markdown",
   "metadata": {},
   "source": [
    "6. Write a function that will return a grade based on score according to the following scheme:\n",
    "```\n",
    " >=90    -> 5\n",
    " [70-90) -> 4\n",
    " [50-70) -> 3\n",
    " <50     -> 2\n",
    "```"
   ]
  },
  {
   "cell_type": "code",
   "execution_count": null,
   "metadata": {},
   "outputs": [],
   "source": [
    "def grade(n):\n",
    "\n",
    "    return \n",
    "\n",
    "if grade(91) == 5 and grade(90) == 5 and grade(80) == 4 and grade(70) == 4 and grade(60) == 3 and grade(50) == 3 and grade(49) == 2:\n",
    "    print(\"Correct!\")\n",
    "else:\n",
    "    print(\"Incorrect!\")\n"
   ]
  },
  {
   "cell_type": "markdown",
   "metadata": {},
   "source": [
    "7. Write a function that returns **True** if the given integer is even."
   ]
  },
  {
   "cell_type": "code",
   "execution_count": null,
   "metadata": {},
   "outputs": [],
   "source": [
    "def is_even(n):\n",
    "    \n",
    "    return\n",
    "\n",
    "if is_even(1234) and not is_even(12357):\n",
    "    print(\"Correct!\")\n",
    "else:\n",
    "    print(\"Incorrect\")"
   ]
  },
  {
   "cell_type": "markdown",
   "metadata": {},
   "source": [
    "8. Write a function that returns **True** if the given integer is odd. Try to use **is_even()** you created in Ex 7."
   ]
  },
  {
   "cell_type": "code",
   "execution_count": null,
   "metadata": {},
   "outputs": [],
   "source": [
    "def is_odd(n):\n",
    "    \n",
    "    return\n",
    "\n",
    "if not is_odd(1234) and is_odd(12357):\n",
    "    print(\"Correct!\")\n",
    "else:\n",
    "    print(\"Incorrect\")"
   ]
  },
  {
   "cell_type": "markdown",
   "metadata": {},
   "source": [
    "9. Write a function that tests wheter three given numbers can be lengths of sides of right angled triangle. Assume a <= b <= c.\n",
    "```\n",
    "Hint: You will have to compare decimal numbers. They don't have to be exactly equal, just close enough. Consider them equal when they are within 0.001 of each other.\n",
    "```"
   ]
  },
  {
   "cell_type": "code",
   "execution_count": null,
   "metadata": {},
   "outputs": [],
   "source": [
    "def is_rightangled(a, b, c):\n",
    "     \n",
    "    return\n",
    "\n",
    "if is_rightangled(1.5, 2.0, 2.5) and not is_rightangled(4.0, 8.0, 16.0) and is_rightangled(4.1, 8.2, 9.167878707) and is_rightangled(4.1, 8.2, 9.16787) and not is_rightangled(4.1, 8.2, 9.168) and is_rightangled(0.5, 0.4, 0.64031):\n",
    "    print(\"Correct!\")\n",
    "else:\n",
    "    print(\"Incorrect!\")"
   ]
  },
  {
   "cell_type": "markdown",
   "metadata": {},
   "source": [
    "10. Extend the above code so that the lengths can be given in any order."
   ]
  },
  {
   "cell_type": "code",
   "execution_count": null,
   "metadata": {},
   "outputs": [],
   "source": [
    "def is_rightangled_better(a, b, c):\n",
    "     \n",
    "    return\n",
    "\n",
    "if is_rightangled_better(1.5, 2.5, 2.0) and not is_rightangled_better(16.0, 8.0, 4.0) and is_rightangled_better(9.167878707, 4.1, 8.2) and is_rightangled_better(4.1, 8.2, 9.16787) and not is_rightangled_better(4.1, 9.168, 8.2) and is_rightangled_better(0.4, 0.5, 0.64031):\n",
    "    print(\"Correct!\")\n",
    "else:\n",
    "    print(\"Incorrect!\")"
   ]
  },
  {
   "cell_type": "markdown",
   "metadata": {},
   "source": [
    "11. Write a function that will approximate the square root of a given number **n** using Newton’s algorithm with **i** number of iterations. The algorithm starts with an initial guess (first old_guess) equal to n/2. Next, it updates the guess in the following way:\n",
    "```\n",
    "new_guess =  (1/2) * (oldguess + (n/oldguess))\n",
    "```\n",
    "The guess is updated **i** numer of times."
   ]
  },
  {
   "cell_type": "code",
   "execution_count": null,
   "metadata": {},
   "outputs": [],
   "source": [
    "def my_sqrt(n, i):\n",
    "    \n",
    "    return\n",
    "print(\"Sqrt of 2 is\", my_sqrt(2, 100))\n",
    "print(\"Sqrt of 3 is\", my_sqrt(3, 100))"
   ]
  },
  {
   "cell_type": "code",
   "execution_count": null,
   "metadata": {},
   "outputs": [],
   "source": []
  }
 ],
 "metadata": {
  "kernelspec": {
   "display_name": "Python 3",
   "language": "python",
   "name": "python3"
  },
  "language_info": {
   "codemirror_mode": {
    "name": "ipython",
    "version": 3
   },
   "file_extension": ".py",
   "mimetype": "text/x-python",
   "name": "python",
   "nbconvert_exporter": "python",
   "pygments_lexer": "ipython3",
   "version": "3.7.0"
  }
 },
 "nbformat": 4,
 "nbformat_minor": 2
}
