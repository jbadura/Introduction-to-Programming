{
 "cells": [
  {
   "cell_type": "markdown",
   "metadata": {},
   "source": [
    "## Working with files\n",
    "To open file we have to use built-in function *open()*. We have to provide path to file (relative or absolute) and **mode**. You will mostly use modes **'r'** for reading file, **'w'** for writing to file (if file existed it will be empted) and **'a'** for appending to file, i.e. writing at the end of what existed in file before.\n",
    "\n",
    "You may check other option in documentation: https://docs.python.org/3/library/functions.html#open"
   ]
  },
  {
   "cell_type": "code",
   "execution_count": 1,
   "metadata": {},
   "outputs": [],
   "source": [
    "f = open('test_file', 'w') # this will create empty file or empty exisitng file\n",
    "'''\n",
    "In this case we used relative path.\n",
    "'test_file' will be created in the directory you run jupyter notebook in, or in you project direcotry in PyCharm\n",
    "absolute path would be something like:\n",
    "'C:\\Users\\jbadura\\Desktop\\python\\Introduction-to-Programming\\test_file'\n",
    "As you can see, it would be hard to run program that operates on absolute path on another computer.\n",
    "'''\n",
    "\n",
    "f.close()\n",
    "'''\n",
    "closing file when you are done using it is generally good practice.\n",
    "With simple, short programs nothing bad should happend if you forget it\n",
    "but with more complicated programs you may get unwanted bugs.\n",
    "'''"
   ]
  },
  {
   "cell_type": "markdown",
   "metadata": {},
   "source": [
    "We can write to files using *write()*"
   ]
  },
  {
   "cell_type": "code",
   "execution_count": null,
   "metadata": {},
   "outputs": [],
   "source": [
    "f = open('test_file', 'w') # this will create empty file\n",
    "f.write('line 1\\n')\n",
    "f.write('line 2\\n')\n",
    "f.write('line 3\\n')\n",
    "f.write('line 4\\n')\n",
    "f.close() "
   ]
  },
  {
   "cell_type": "markdown",
   "metadata": {},
   "source": [
    "We can read from file in several different ways."
   ]
  },
  {
   "cell_type": "code",
   "execution_count": null,
   "metadata": {},
   "outputs": [],
   "source": [
    "f = open('test_file', 'r') # if there is no such file open will return error\n",
    "lines = f.readlines()\n",
    "print(lines)\n",
    "f.close()"
   ]
  },
  {
   "cell_type": "code",
   "execution_count": null,
   "metadata": {},
   "outputs": [],
   "source": [
    "f = open('test_file', 'r') # if there is no such file open will return error\n",
    "for i in range(4):\n",
    "    line = f.readline()\n",
    "    print(line)\n",
    "f.close()"
   ]
  },
  {
   "cell_type": "code",
   "execution_count": null,
   "metadata": {},
   "outputs": [],
   "source": [
    "f = open('test_file', 'r') # if there is no such file open will return error\n",
    "for i in f:\n",
    "    print(i)\n",
    "f.close()"
   ]
  },
  {
   "cell_type": "markdown",
   "metadata": {},
   "source": [
    "## Exercises"
   ]
  },
  {
   "cell_type": "markdown",
   "metadata": {},
   "source": [
    "Ex. 1. Write program that reads first n lines of a file and displays them. (There should be NO blank lines between displayed lines, as in examples above)"
   ]
  },
  {
   "cell_type": "code",
   "execution_count": null,
   "metadata": {},
   "outputs": [],
   "source": []
  },
  {
   "cell_type": "markdown",
   "metadata": {},
   "source": [
    "Ex. 2. Write program that displays last n lines of a file. (There should be NO blank lines between displayed lines, as in examples above)"
   ]
  },
  {
   "cell_type": "code",
   "execution_count": null,
   "metadata": {},
   "outputs": [],
   "source": []
  },
  {
   "cell_type": "markdown",
   "metadata": {},
   "source": [
    "Ex. 3. Write a program that reads a file and display 3 numbers - numeber of lines, number of words and number of characters."
   ]
  },
  {
   "cell_type": "code",
   "execution_count": null,
   "metadata": {},
   "outputs": [],
   "source": []
  },
  {
   "cell_type": "markdown",
   "metadata": {},
   "source": [
    "Ex. 4. Write a program that copy content of file to another (new) file."
   ]
  },
  {
   "cell_type": "code",
   "execution_count": null,
   "metadata": {},
   "outputs": [],
   "source": []
  },
  {
   "cell_type": "markdown",
   "metadata": {},
   "source": [
    "Ex. 5. You have to prepare N (<10) random tests instances for problem [Sort](https://www.hackerrank.com/contests/put-itcp-simple/challenges/sort-11). Each test should have two files, input file and output - they should be nameed inputX.txt and outputX.txt, when X is the number of the test. They should be saved in folder named sort_tests. (You may create this direcotry by hand or google how to create directory with python code.)"
   ]
  },
  {
   "cell_type": "code",
   "execution_count": null,
   "metadata": {},
   "outputs": [],
   "source": []
  }
 ],
 "metadata": {
  "kernelspec": {
   "display_name": "Python 3",
   "language": "python",
   "name": "python3"
  },
  "language_info": {
   "codemirror_mode": {
    "name": "ipython",
    "version": 3
   },
   "file_extension": ".py",
   "mimetype": "text/x-python",
   "name": "python",
   "nbconvert_exporter": "python",
   "pygments_lexer": "ipython3",
   "version": "3.7.0"
  }
 },
 "nbformat": 4,
 "nbformat_minor": 2
}
