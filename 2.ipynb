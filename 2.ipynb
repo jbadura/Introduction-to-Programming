{
 "cells": [
  {
   "cell_type": "markdown",
   "metadata": {},
   "source": [
    "## Lists\n",
    "List is a very important datatype, that can store several values. To create an empty list simply assign [] to a variable."
   ]
  },
  {
   "cell_type": "code",
   "execution_count": null,
   "metadata": {},
   "outputs": [],
   "source": [
    "l = []\n",
    "print(l, type(l))"
   ]
  },
  {
   "cell_type": "markdown",
   "metadata": {},
   "source": [
    "You can put some values in a list just by putting them in between [] and separating using , (comma)"
   ]
  },
  {
   "cell_type": "code",
   "execution_count": null,
   "metadata": {},
   "outputs": [],
   "source": [
    "l = [1, 2, 3, 'abc', 1]\n",
    "print(l)"
   ]
  },
  {
   "cell_type": "markdown",
   "metadata": {},
   "source": [
    "To access an element of a list we also use [] and the index of the element. The index of the first element is 0."
   ]
  },
  {
   "cell_type": "code",
   "execution_count": null,
   "metadata": {},
   "outputs": [],
   "source": [
    "l = [1, 2, 3, 'abc', 1]\n",
    "print(l[0], l[3])"
   ]
  },
  {
   "cell_type": "markdown",
   "metadata": {},
   "source": [
    "You can add an element to the list using **append()** in the following way:"
   ]
  },
  {
   "cell_type": "code",
   "execution_count": null,
   "metadata": {},
   "outputs": [],
   "source": [
    "l = [1, 2, 3]\n",
    "print(l)\n",
    "l.append(4)\n",
    "print(l)"
   ]
  },
  {
   "cell_type": "markdown",
   "metadata": {},
   "source": [
    "You can use lists with math operators. Not all, but you should try to figure out how + and * work with lists and numbers."
   ]
  },
  {
   "cell_type": "code",
   "execution_count": null,
   "metadata": {},
   "outputs": [],
   "source": [
    "l1 = [1,2,3]\n",
    "l2 = [4,5,6]\n",
    "# Try to add lists, multiply lists, add (+, not append) number to a list and multiply number and a list. Some combinations may cause an error."
   ]
  },
  {
   "cell_type": "markdown",
   "metadata": {},
   "source": [
    "An easy way to create a list with some specific numbers is **range()**. It can take up to 3 arguments. Try to figure out how it works or read about it in the documentation (https://docs.python.org/3/library/stdtypes.html#range)"
   ]
  },
  {
   "cell_type": "code",
   "execution_count": null,
   "metadata": {},
   "outputs": [],
   "source": [
    "print(list(range(10)))"
   ]
  },
  {
   "cell_type": "markdown",
   "metadata": {},
   "source": [
    "You have to be careful when you are assigning one list to several variables. Analyze the example below."
   ]
  },
  {
   "cell_type": "code",
   "execution_count": null,
   "metadata": {},
   "outputs": [],
   "source": [
    "a = 5\n",
    "b = a\n",
    "b = 8\n",
    "print(a, b)\n",
    "\n",
    "la = [5]\n",
    "lb = la\n",
    "lb[0] = 8\n",
    "print(la, lb)"
   ]
  },
  {
   "cell_type": "markdown",
   "metadata": {},
   "source": [
    "## For loop\n",
    "The most natural way to process elements in a list is a **for** loop. The following construction will *iterate* over a list - that means it will assign each element of a list to a variable and execute some code over it. It this example it will simply print its value and type."
   ]
  },
  {
   "cell_type": "code",
   "execution_count": null,
   "metadata": {},
   "outputs": [],
   "source": [
    "for el in [1, 2, 3, 'abc', 1.1]:  # el is variable name, can be different. 'for', 'in' and ':' are important\n",
    "    print(el, type(el))           # notice, we have indent here. all indented code will be executed for each element."
   ]
  },
  {
   "cell_type": "markdown",
   "metadata": {},
   "source": [
    "We can also iterate over list using **range()** and **len()**. It is very useful when we need the index of the element, not only its value. Try to guess what **len()** does."
   ]
  },
  {
   "cell_type": "code",
   "execution_count": null,
   "metadata": {},
   "outputs": [],
   "source": [
    "l = [1, 2, 3, 'abc', 1.1]\n",
    "for i in range(len(l)):        # when used in for loop we don't need the cast to list() that was used above.\n",
    "     print(l[i], type(l[i]))   # Above it was used becouse range() doesn't actually create the whole list to save memory\n",
    "                               # by using list() we forced it to create one, since we wanted to print it."
   ]
  },
  {
   "cell_type": "markdown",
   "metadata": {},
   "source": [
    "## Exercises\n",
    "1. Use **for** loop to print 'Hello World!' several times."
   ]
  },
  {
   "cell_type": "code",
   "execution_count": null,
   "metadata": {},
   "outputs": [],
   "source": []
  },
  {
   "cell_type": "markdown",
   "metadata": {},
   "source": [
    "2. Use **for** loop and prepared lists to print messages:\n",
    "```\n",
    "First prime number is 2\n",
    "Second prime number is 3\n",
    "and so on...\n",
    "```"
   ]
  },
  {
   "cell_type": "code",
   "execution_count": null,
   "metadata": {},
   "outputs": [],
   "source": [
    "l1 = [2, 3, 5, 7, 11, 13, 17, 19, 23, 29]\n",
    "l2 = ['First', 'Second', 'Third', 'Fourth', 'Fifth', 'Sixth', 'Seventh', 'Eighth', 'Nineth', 'Tenth']\n"
   ]
  },
  {
   "cell_type": "markdown",
   "metadata": {},
   "source": [
    "3. Create a list with 10 random numbers. Write a **for** loop that for each number will print it and its square.\n",
    "\n",
    "```\n",
    "Hint: You want to create empty list and add to it new numbers.\n",
    "Hint2: Google how to generate random number in Python.\n",
    "```"
   ]
  },
  {
   "cell_type": "code",
   "execution_count": null,
   "metadata": {},
   "outputs": [],
   "source": []
  },
  {
   "cell_type": "markdown",
   "metadata": {},
   "source": [
    "4. Create a list with 10 random numbers. Calculate the sum of all the numbers in a list."
   ]
  },
  {
   "cell_type": "code",
   "execution_count": null,
   "metadata": {},
   "outputs": [],
   "source": []
  },
  {
   "cell_type": "markdown",
   "metadata": {},
   "source": [
    "5. Read two integers from input. Calculate the sum of all the integers between them. (You can assume first integer is smaller than second one)."
   ]
  },
  {
   "cell_type": "code",
   "execution_count": null,
   "metadata": {},
   "outputs": [],
   "source": []
  },
  {
   "cell_type": "markdown",
   "metadata": {},
   "source": [
    "6. Write a code that will create a copy of list la."
   ]
  },
  {
   "cell_type": "code",
   "execution_count": null,
   "metadata": {},
   "outputs": [],
   "source": [
    "la = [1, 2, 4, 5, 6, 7, 8, 9]\n",
    "\n",
    "# Replace this line with code, that will create a copy of la\n",
    "lb = la\n",
    "\n",
    "lb[0] = 1000\n",
    "print(la)\n",
    "print(lb)"
   ]
  },
  {
   "cell_type": "markdown",
   "metadata": {},
   "source": [
    "7. Below is an example of a code that uses the turtle module to draw a triangle. Play with it and try to draw a square."
   ]
  },
  {
   "cell_type": "code",
   "execution_count": null,
   "metadata": {},
   "outputs": [],
   "source": [
    "import turtle                     # import turtle module\n",
    "\n",
    "wn = turtle.Screen()              # creates window\n",
    "myLittleTurtle = turtle.Turtle()  # creates turtle - turtle is used to draw\n",
    "\n",
    "for i in range(3):\n",
    "    myLittleTurtle.forward(100)   # turtle moves forward, drawing line\n",
    "    myLittleTurtle.left(120)      # turtle rotates 120 degrees\n",
    "\n",
    "wn.exitonclick()                  # close the window when you click on it"
   ]
  },
  {
   "cell_type": "markdown",
   "metadata": {},
   "source": [
    "8. Use turtle module to create a code that will draw a regular polygon with the number of sides read from **input()**"
   ]
  },
  {
   "cell_type": "code",
   "execution_count": null,
   "metadata": {},
   "outputs": [],
   "source": [
    "import turtle\n",
    "\n",
    "wn = turtle.Screen()\n",
    "t = turtle.Turtle()\n",
    "\n",
    "\n",
    "\n",
    "\n",
    "wn.exitonclick() "
   ]
  },
  {
   "cell_type": "markdown",
   "metadata": {},
   "source": [
    "If you liked playing with turtles you can find some more exercises on https://runestone.academy/runestone/books/published/thinkcspy/PythonTurtle/toctree.html"
   ]
  },
  {
   "cell_type": "code",
   "execution_count": null,
   "metadata": {},
   "outputs": [],
   "source": []
  }
 ],
 "metadata": {
  "kernelspec": {
   "display_name": "Python 3",
   "language": "python",
   "name": "python3"
  },
  "language_info": {
   "codemirror_mode": {
    "name": "ipython",
    "version": 3
   },
   "file_extension": ".py",
   "mimetype": "text/x-python",
   "name": "python",
   "nbconvert_exporter": "python",
   "pygments_lexer": "ipython3",
   "version": "3.7.0"
  }
 },
 "nbformat": 4,
 "nbformat_minor": 2
}
