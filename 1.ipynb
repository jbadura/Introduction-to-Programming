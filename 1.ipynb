{
 "cells": [
  {
   "cell_type": "markdown",
   "metadata": {},
   "source": [
    "## Basic math operators\n",
    "In Python3 the basic math operators are + - * / % // ** and you can use brackets () to force the order of operations. You can test them in the cell below."
   ]
  },
  {
   "cell_type": "code",
   "execution_count": null,
   "metadata": {},
   "outputs": [],
   "source": [
    "1 + 1"
   ]
  },
  {
   "cell_type": "markdown",
   "metadata": {},
   "source": [
    "Time for some math puzzles. Insert operators to make the expression equal the value in the comment (after #). To check click Run on selected cell."
   ]
  },
  {
   "cell_type": "code",
   "execution_count": null,
   "metadata": {},
   "outputs": [],
   "source": [
    "4  3  2  1 #10"
   ]
  },
  {
   "cell_type": "code",
   "execution_count": null,
   "metadata": {},
   "outputs": [],
   "source": [
    "2  2  2  2 #18"
   ]
  },
  {
   "cell_type": "code",
   "execution_count": null,
   "metadata": {},
   "outputs": [],
   "source": [
    "8  3  8  3 #7"
   ]
  },
  {
   "cell_type": "markdown",
   "metadata": {},
   "source": [
    "Insert brackets to make the expression equal to the value in the comment (after #)."
   ]
  },
  {
   "cell_type": "code",
   "execution_count": null,
   "metadata": {},
   "outputs": [],
   "source": [
    "2 + 2 * 2 #8"
   ]
  },
  {
   "cell_type": "code",
   "execution_count": null,
   "metadata": {},
   "outputs": [],
   "source": [
    "6 * 1 - 2 #-6"
   ]
  },
  {
   "cell_type": "code",
   "execution_count": null,
   "metadata": {},
   "outputs": [],
   "source": [
    "3 ** 3 + 3 * 3 + 3 #150094635296999121"
   ]
  },
  {
   "cell_type": "markdown",
   "metadata": {},
   "source": [
    "## print()\n",
    "The most basic way to display something is to use function **print()**.\n",
    "\n",
    "Let's start with the most basic program. Write code, that will display Hello World! Remember to use '' or \"\"."
   ]
  },
  {
   "cell_type": "code",
   "execution_count": null,
   "metadata": {},
   "outputs": [],
   "source": [
    "print()"
   ]
  },
  {
   "cell_type": "markdown",
   "metadata": {},
   "source": [
    "## Variables\n",
    "We can store *values* in *variables*. To do this you have to use the = operator. In other programming languages you may have to create the variable first, but in Python it is automagically created when you assign some value to it. In the example below we store value 'Hello World!' in a variable named s. We can then use it in i.e. **print()**.\n",
    "\n",
    "Variable names must follow some rules:\n",
    "\n",
    "    A variable name cannot start with a number\n",
    "    A variable name can only contain alpha-numeric characters and underscores (A-z, 0-9, and _ )\n",
    "    Variable names are case-sensitive (age, Age and AGE are three different variables)\n"
   ]
  },
  {
   "cell_type": "code",
   "execution_count": null,
   "metadata": {},
   "outputs": [],
   "source": [
    "s = 'Hello World!'\n",
    "print(s)"
   ]
  },
  {
   "cell_type": "markdown",
   "metadata": {},
   "source": [
    "Similarly, we can store numbers in variables and use them in math operations."
   ]
  },
  {
   "cell_type": "code",
   "execution_count": null,
   "metadata": {},
   "outputs": [],
   "source": [
    "a = 10 + 5\n",
    "b = a + 10\n",
    "c = a + b\n",
    "print(c) #can you guess what will be printed?"
   ]
  },
  {
   "cell_type": "markdown",
   "metadata": {},
   "source": [
    "You can print several things using a single **print()** by separating them with comma (,)."
   ]
  },
  {
   "cell_type": "code",
   "execution_count": null,
   "metadata": {},
   "outputs": [],
   "source": [
    "s1 = 'AAA'\n",
    "s2 = 'BBB'\n",
    "num = 123\n",
    "print(\"Some text\", s1, num, s2)"
   ]
  },
  {
   "cell_type": "markdown",
   "metadata": {},
   "source": [
    "You can check the type of data you have using **type()** function. In the example below, we can see, that text is of type **str** (short for string) and numbers are of type **int** (short for integer)."
   ]
  },
  {
   "cell_type": "code",
   "execution_count": null,
   "metadata": {},
   "outputs": [],
   "source": [
    "s1 = 'AAA'\n",
    "num = 123\n",
    "print('aaa', type('aaa'))\n",
    "print(111, type(111))\n",
    "print(s1, type(s1))\n",
    "print(num, type(num))"
   ]
  },
  {
   "cell_type": "markdown",
   "metadata": {},
   "source": [
    "To use fractions we have to separate numbers using . instead of , as in math class. Actually large part of the world use . to separate decimals (https://en.wikipedia.org/wiki/Decimal_separator). The type of our number with fraction is **float**.\n",
    "\n",
    "Note, that it is possible to use , between numbers - the meaning, however, would be totally different. We will see more about it in following lectures."
   ]
  },
  {
   "cell_type": "code",
   "execution_count": null,
   "metadata": {},
   "outputs": [],
   "source": [
    "num1 = 123.123\n",
    "num2 = 123,123\n",
    "print(num1, type(num1))\n",
    "print(num2, type(num2))"
   ]
  },
  {
   "cell_type": "markdown",
   "metadata": {},
   "source": [
    "## Type conversions\n",
    "It is possible to convert types using appropriate functions.\n",
    "\n",
    "In general, it is possible to convert almost anything to string using **str()**"
   ]
  },
  {
   "cell_type": "code",
   "execution_count": null,
   "metadata": {},
   "outputs": [],
   "source": [
    "s1 = str(123)\n",
    "s2 = str(123.123)\n",
    "print(s1, type(s1))\n",
    "print(s2, type(s2))"
   ]
  },
  {
   "cell_type": "markdown",
   "metadata": {},
   "source": [
    "We can also convert a string of digits into integer using **int()**. It is also possible to add - at the beginning for negative integers."
   ]
  },
  {
   "cell_type": "code",
   "execution_count": null,
   "metadata": {},
   "outputs": [],
   "source": [
    "n1 = int(\"123\")\n",
    "n2 = int(\"-123\")\n",
    "print(n1, type(n1))\n",
    "print(n2, type(n2))"
   ]
  },
  {
   "cell_type": "markdown",
   "metadata": {},
   "source": [
    "Note, that when we try to use **int()** we may get a runtime error, if we use it on a string that does not represent an integer."
   ]
  },
  {
   "cell_type": "code",
   "execution_count": null,
   "metadata": {},
   "outputs": [],
   "source": [
    "n = int('123.123')"
   ]
  },
  {
   "cell_type": "markdown",
   "metadata": {},
   "source": [
    "Similarly, we can use **float()** to parse floating point number (with fraction)."
   ]
  },
  {
   "cell_type": "code",
   "execution_count": null,
   "metadata": {},
   "outputs": [],
   "source": [
    "n = float('123.123')\n",
    "print(n, type(n))"
   ]
  },
  {
   "cell_type": "markdown",
   "metadata": {},
   "source": [
    "## input()\n",
    "We can read input from keyboard using **input()**."
   ]
  },
  {
   "cell_type": "code",
   "execution_count": null,
   "metadata": {},
   "outputs": [],
   "source": [
    "input()"
   ]
  },
  {
   "cell_type": "markdown",
   "metadata": {},
   "source": [
    "To use it in any meaningful way we have to store it in a variable. Note, that **input()** always returns a string. If you want to read a number from the keyboard, you will have to convert it."
   ]
  },
  {
   "cell_type": "code",
   "execution_count": null,
   "metadata": {},
   "outputs": [],
   "source": [
    "a = input()\n",
    "print(a, type(a))"
   ]
  },
  {
   "cell_type": "markdown",
   "metadata": {},
   "source": [
    "## Exercises\n",
    "\n",
    "Exercises for this Labs can be found here: https://www.hackerrank.com/lab-1-2122\n",
    "\n",
    "The deadline is **15.10.2021 23:45**"
   ]
  },
  {
   "cell_type": "markdown",
   "metadata": {},
   "source": [
    "## Extra exercise - read documentation - print().\n",
    "The default behaviour of **print()** is to separate each argument with space and end with endline character ('\\n').\n",
    "Check, how to change it, so that arguments will be separated by i.e. ';' and there is no end character.\n",
    "https://docs.python.org/3/library/functions.html#print.\n",
    "\n",
    "Reading documentation may be quite hard at first. You may try to google your question. Remember to mention in your search that you are interested in Python3. It is very common to find answers to popular questions on https://stackoverflow.com/. "
   ]
  },
  {
   "cell_type": "code",
   "execution_count": null,
   "metadata": {},
   "outputs": [],
   "source": [
    "print('Those', 'words', 'should', 'be', 'separated', 'by', ';')\n",
    "print('and this line should follow the previous one')"
   ]
  },
  {
   "cell_type": "markdown",
   "metadata": {},
   "source": [
    "## Extra information about Jupyter Notebook printing behaviour\n",
    "You probably noticed, that this environment (Jupyter Notebook) behaves similar to an interactive console and will sometimes display values even without print. The default behavior is to print the evaluation of last command."
   ]
  },
  {
   "cell_type": "code",
   "execution_count": null,
   "metadata": {},
   "outputs": [],
   "source": [
    "1+1\n",
    "2+2\n",
    "3+3"
   ]
  },
  {
   "cell_type": "markdown",
   "metadata": {},
   "source": [
    "Note, that only 6 was displayed. Remember, that in most cases (i.e. HackeRank) you have to use function **print()** to actually print values.\n",
    "We can change the behavior of Jupyter to display evaluation of each line."
   ]
  },
  {
   "cell_type": "code",
   "execution_count": null,
   "metadata": {},
   "outputs": [],
   "source": [
    "from IPython.core.interactiveshell import InteractiveShell\n",
    "InteractiveShell.ast_node_interactivity = 'all'"
   ]
  },
  {
   "cell_type": "code",
   "execution_count": null,
   "metadata": {},
   "outputs": [],
   "source": [
    "1+1\n",
    "2+2\n",
    "3+3"
   ]
  },
  {
   "cell_type": "markdown",
   "metadata": {},
   "source": [
    "Change it, so that no values are printed."
   ]
  },
  {
   "cell_type": "code",
   "execution_count": null,
   "metadata": {},
   "outputs": [],
   "source": [
    "InteractiveShell.ast_node_interactivity = 'none'"
   ]
  },
  {
   "cell_type": "code",
   "execution_count": null,
   "metadata": {},
   "outputs": [],
   "source": [
    "1+1\n",
    "2+2\n",
    "3+3"
   ]
  },
  {
   "cell_type": "markdown",
   "metadata": {},
   "source": [
    "Or restore it to default behavior of printing the evaluation of last expression."
   ]
  },
  {
   "cell_type": "code",
   "execution_count": null,
   "metadata": {},
   "outputs": [],
   "source": [
    "InteractiveShell.ast_node_interactivity = 'last_expr'"
   ]
  }
 ],
 "metadata": {
  "kernelspec": {
   "display_name": "Python 3",
   "language": "python",
   "name": "python3"
  },
  "language_info": {
   "codemirror_mode": {
    "name": "ipython",
    "version": 3
   },
   "file_extension": ".py",
   "mimetype": "text/x-python",
   "name": "python",
   "nbconvert_exporter": "python",
   "pygments_lexer": "ipython3",
   "version": "3.9.0"
  }
 },
 "nbformat": 4,
 "nbformat_minor": 2
}
