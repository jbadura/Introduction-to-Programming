{
 "cells": [
  {
   "cell_type": "markdown",
   "metadata": {},
   "source": [
    "## while loop\n",
    "while loop is another way to repeat some fragment of code. The loop is repeated as long as some condition is True."
   ]
  },
  {
   "cell_type": "code",
   "execution_count": null,
   "metadata": {},
   "outputs": [],
   "source": [
    "i = 0\n",
    "while i < 5:\n",
    "    print(i)\n",
    "    i = i + 1"
   ]
  },
  {
   "cell_type": "markdown",
   "metadata": {},
   "source": [
    "## break / continue"
   ]
  },
  {
   "cell_type": "markdown",
   "metadata": {},
   "source": [
    "The execution of both loop (for and while) can be interrupted using **break** and **continue**. Analyze examples below to figure out how they behave."
   ]
  },
  {
   "cell_type": "code",
   "execution_count": null,
   "metadata": {},
   "outputs": [],
   "source": [
    "print(\"continue\")\n",
    "i = 0\n",
    "while i < 5:\n",
    "    i += 1\n",
    "    if i == 2:\n",
    "        continue\n",
    "    print(i)\n",
    "\n",
    "print(\"break\")\n",
    "i = 0\n",
    "while i < 5:\n",
    "    i += 1\n",
    "    if i == 2:\n",
    "        break\n",
    "    print(i)"
   ]
  },
  {
   "cell_type": "markdown",
   "metadata": {},
   "source": [
    "## while else\n",
    "You can add else after while loop. The code will execute once when the condition is no longer True.\n",
    "It will not execute when you break the loop."
   ]
  },
  {
   "cell_type": "code",
   "execution_count": null,
   "metadata": {},
   "outputs": [],
   "source": [
    "while True:\n",
    "    break\n",
    "else:\n",
    "    print(\"This will not be printed!\")\n",
    "    \n",
    "i = 0\n",
    "while i < 2:\n",
    "    print(i)\n",
    "    i += 1\n",
    "else:\n",
    "    print(\"Hello one time!\")"
   ]
  },
  {
   "cell_type": "markdown",
   "metadata": {},
   "source": [
    "## for else\n",
    "You can also add else after for loop. The code will execute if you do NOT use break."
   ]
  },
  {
   "cell_type": "code",
   "execution_count": null,
   "metadata": {},
   "outputs": [],
   "source": [
    "for i in [1,2,3]:\n",
    "    break\n",
    "else:\n",
    "    print(\"This will not be printed!\")\n",
    "\n",
    "for i in [1,2,3]:\n",
    "    print(i)\n",
    "else:\n",
    "    print(\"Hello one time!\")\n"
   ]
  },
  {
   "cell_type": "markdown",
   "metadata": {},
   "source": [
    "## Processing all elements and creating list - map and list comprehension\n"
   ]
  },
  {
   "cell_type": "code",
   "execution_count": null,
   "metadata": {},
   "outputs": [],
   "source": [
    "l = ['1', '2', '3']\n",
    "\n",
    "print(\"List comprehension\")\n",
    "l1 = [int(x) for x in l]\n",
    "print(l1)\n",
    "l2 = [a*a for a in l1]\n",
    "print(l2)\n",
    "\n",
    "print(\"Map\")\n",
    "lm1 = list(map(int, l))\n",
    "print(lm1)\n",
    "lm2 = list(map(lambda x: x*x, l1))\n",
    "print(lm2)"
   ]
  },
  {
   "cell_type": "markdown",
   "metadata": {},
   "source": [
    "## Exercises\n"
   ]
  },
  {
   "cell_type": "markdown",
   "metadata": {},
   "source": [
    "Ex. 1. Rewrite the following code to use while instead of for."
   ]
  },
  {
   "cell_type": "code",
   "execution_count": null,
   "metadata": {},
   "outputs": [],
   "source": [
    "for i in range(1, 20, 2):\n",
    "    print(i)"
   ]
  },
  {
   "cell_type": "code",
   "execution_count": null,
   "metadata": {},
   "outputs": [],
   "source": []
  },
  {
   "cell_type": "markdown",
   "metadata": {},
   "source": [
    "Ex. 2. Write a code that will echo user input until he writes 'quit'."
   ]
  },
  {
   "cell_type": "code",
   "execution_count": null,
   "metadata": {},
   "outputs": [],
   "source": []
  },
  {
   "cell_type": "markdown",
   "metadata": {},
   "source": [
    "Ex. 3. Write a program that will read integer N and prints numbers from 1 to m, where sum(1, ..., m) < N."
   ]
  },
  {
   "cell_type": "code",
   "execution_count": null,
   "metadata": {},
   "outputs": [],
   "source": []
  },
  {
   "cell_type": "markdown",
   "metadata": {},
   "source": [
    "Ex. 4. Create a list with some number of random integers from 1 to 100. You should stop adding new integers to the list when the maximum element in the list is smaller than sum of all the numbers without the maximum. "
   ]
  },
  {
   "cell_type": "code",
   "execution_count": null,
   "metadata": {},
   "outputs": [],
   "source": [
    "import random\n",
    "print(random.randint(1, 100))\n",
    "    "
   ]
  },
  {
   "cell_type": "markdown",
   "metadata": {},
   "source": [
    "Ex. 5. Modify the my_sqrt(n, i) funtion from Lab 3 to end when specific approximation is reached. It means, you should not repeat the algorithm specific number of times, but end it when the elements you have to add are smaller than some **epsilon**."
   ]
  },
  {
   "cell_type": "code",
   "execution_count": null,
   "metadata": {},
   "outputs": [],
   "source": [
    "def my_sqrt(n, eps):\n",
    "    "
   ]
  },
  {
   "cell_type": "markdown",
   "metadata": {},
   "source": [
    "Ex. 6. Use while loop to print the binary representation of a number."
   ]
  },
  {
   "cell_type": "code",
   "execution_count": null,
   "metadata": {},
   "outputs": [],
   "source": []
  },
  {
   "cell_type": "markdown",
   "metadata": {},
   "source": [
    "Ex. 7. Process each element using map function on provided list to obtains list of lists containing number and its square. "
   ]
  },
  {
   "cell_type": "code",
   "execution_count": null,
   "metadata": {},
   "outputs": [],
   "source": []
  },
  {
   "cell_type": "markdown",
   "metadata": {},
   "source": [
    "Ex. 8. Process each element using list comprehension on provided list to obtains list of lists containing number and its square. "
   ]
  },
  {
   "cell_type": "code",
   "execution_count": null,
   "metadata": {},
   "outputs": [],
   "source": []
  },
  {
   "cell_type": "markdown",
   "metadata": {},
   "source": [
    "Ex. 9. Use any form of iteration and split() function to read unspecified number of space-separated integers from input()."
   ]
  },
  {
   "cell_type": "code",
   "execution_count": null,
   "metadata": {},
   "outputs": [],
   "source": []
  },
  {
   "cell_type": "markdown",
   "metadata": {},
   "source": [
    "## Extra - Image processing\n",
    "Below is an example of code that process the image. To use it you may have to install cImage:\n",
    "```\n",
    "pip install cImage\n",
    "```\n",
    "1. In the example above we remove red colour from image. Analyze the code and try to write some other filters\n",
    "    - convert to greyscale\n",
    "    - convert to black-white\n",
    "    - convert to sepia\n",
    "\n",
    "2. Try to make the image 2 times bigger.\n",
    "\n",
    "3. Try to detect edges using Sobel detection algorithm (image.png may be better for this)"
   ]
  },
  {
   "cell_type": "code",
   "execution_count": null,
   "metadata": {},
   "outputs": [],
   "source": [
    "import image \n",
    "\n",
    "\n",
    "img =image.FileImage(\"LutherBellPic.jpg\")                   # we load the image\n",
    "print(img.getWidth(), img.getHeight())                      # we can check sizes with those functions\n",
    "newimg = image.EmptyImage(img.getWidth(), img.getHeight())  # we create new image with appropriate sizes\n",
    "print(img.getPixel(0, 0))                                   # we can get each pixel using its position\n",
    "print(img.getPixel(0, 0).getBlue())                         # pixel is represented as RGB. we can get each color\n",
    "\n",
    "for col in range(img.getWidth()):\n",
    "    for row in range(img.getHeight()):\n",
    "        p = img.getPixel(col, row)\n",
    "\n",
    "        newred = 0\n",
    "        green = p.getGreen()\n",
    "        blue = p.getBlue()\n",
    "\n",
    "        newpixel = image.Pixel(newred, green, blue)         # we create pixel with some values\n",
    "        newimg.setPixel(col, row, newpixel)                 # and set this pixel in appropriate location in new image\n",
    "\n",
    "newimg.save('bell_without_red.jpg')                         # we save new file"
   ]
  },
  {
   "cell_type": "code",
   "execution_count": null,
   "metadata": {},
   "outputs": [],
   "source": []
  }
 ],
 "metadata": {
  "kernelspec": {
   "display_name": "Python 3",
   "language": "python",
   "name": "python3"
  },
  "language_info": {
   "codemirror_mode": {
    "name": "ipython",
    "version": 3
   },
   "file_extension": ".py",
   "mimetype": "text/x-python",
   "name": "python",
   "nbconvert_exporter": "python",
   "pygments_lexer": "ipython3",
   "version": "3.7.0"
  }
 },
 "nbformat": 4,
 "nbformat_minor": 2
}
