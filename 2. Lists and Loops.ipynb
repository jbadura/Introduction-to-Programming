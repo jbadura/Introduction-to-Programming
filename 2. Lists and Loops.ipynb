{
 "cells": [
  {
   "cell_type": "markdown",
   "metadata": {},
   "source": [
    "## Lists\n",
    "List is a very important datatype, that can store several values. To create an empty list simply assign [] to a variable."
   ]
  },
  {
   "cell_type": "code",
   "execution_count": null,
   "metadata": {},
   "outputs": [],
   "source": [
    "l = []\n",
    "print(l, type(l))"
   ]
  },
  {
   "cell_type": "markdown",
   "metadata": {},
   "source": [
    "You can put some values in a list just by putting them in between [] and separating using , (comma)"
   ]
  },
  {
   "cell_type": "code",
   "execution_count": null,
   "metadata": {},
   "outputs": [],
   "source": [
    "l = [1, 2, 3, 'abc', 1]\n",
    "print(l)"
   ]
  },
  {
   "cell_type": "markdown",
   "metadata": {},
   "source": [
    "To access an element of a list we also use [] and the index of the element. The index of the first element is 0."
   ]
  },
  {
   "cell_type": "code",
   "execution_count": null,
   "metadata": {},
   "outputs": [],
   "source": [
    "l = [1, 2, 3, 'abc', 1]\n",
    "print(l[0], l[3])"
   ]
  },
  {
   "cell_type": "markdown",
   "metadata": {},
   "source": [
    "You can add an element to the list using **append()** in the following way:"
   ]
  },
  {
   "cell_type": "code",
   "execution_count": null,
   "metadata": {},
   "outputs": [],
   "source": [
    "l = [1, 2, 3]\n",
    "print(l)\n",
    "l.append(4)\n",
    "print(l)"
   ]
  },
  {
   "cell_type": "markdown",
   "metadata": {},
   "source": [
    "You can use lists with math operators. Not all, but you should try to figure out how + and * work with lists and numbers."
   ]
  },
  {
   "cell_type": "code",
   "execution_count": null,
   "metadata": {},
   "outputs": [],
   "source": [
    "l1 = [1,2,3]\n",
    "l2 = [4,5,6]\n",
    "# Try to add lists, multiply lists, add (+, not append)\n",
    "# number to a list and multiply number and a list.\n",
    "# Some combinations may cause an error."
   ]
  },
  {
   "cell_type": "markdown",
   "metadata": {},
   "source": [
    "An easy way to create a list with some specific numbers is **range()**. It can take up to 3 arguments. Try to figure out how it works or read about it in the documentation (https://docs.python.org/3/library/stdtypes.html#range)"
   ]
  },
  {
   "cell_type": "code",
   "execution_count": null,
   "metadata": {},
   "outputs": [],
   "source": [
    "print(list(range(10)))"
   ]
  },
  {
   "cell_type": "markdown",
   "metadata": {},
   "source": [
    "You have to be careful when you are assigning one list to several variables. Analyze the example below."
   ]
  },
  {
   "cell_type": "code",
   "execution_count": null,
   "metadata": {},
   "outputs": [],
   "source": [
    "a = 5\n",
    "b = a\n",
    "b = 8\n",
    "print(a, b)\n",
    "\n",
    "la = [5]\n",
    "lb = la\n",
    "lb[0] = 8\n",
    "print(la, lb)"
   ]
  },
  {
   "cell_type": "markdown",
   "metadata": {},
   "source": [
    "## For loop\n",
    "The most natural way to process elements in a list is a **for** loop. The following construction will *iterate* over a list - that means it will assign each element of a list to a variable and execute some code over it. It this example it will simply print its value and type."
   ]
  },
  {
   "cell_type": "code",
   "execution_count": null,
   "metadata": {},
   "outputs": [],
   "source": [
    "# el is variable name, can be different. 'for', 'in' and ':' are important\n",
    "for el in [1, 2, 3, 'abc', 1.1]:  \n",
    "    print(el, type(el))           # notice, we have indent here.\n",
    "\n",
    "# all indented code will be executed for each element."
   ]
  },
  {
   "cell_type": "markdown",
   "metadata": {},
   "source": [
    "We can also iterate over list using **range()** and **len()**. It is very useful when we need the index of the element, not only its value. Try to guess what **len()** does."
   ]
  },
  {
   "cell_type": "code",
   "execution_count": null,
   "metadata": {},
   "outputs": [],
   "source": [
    "l = [1, 2, 3, 'abc', 1.1]\n",
    "for i in range(len(l)):        # when used in for loop we don't need the cast to list() that was used above.\n",
    "     print(l[i], type(l[i]))   # Above it was used becouse range() doesn't actually create the whole list to save memory\n",
    "                               # by using list() we forced it to create one, since we wanted to print it."
   ]
  },
  {
   "cell_type": "markdown",
   "metadata": {},
   "source": [
    "## Exercises\n",
    "\n",
    "Exercises for this Labs can be found on ekursy.put.poznan.pl\n",
    "\n",
    "Please note, that there are deadlines for them."
   ]
  },
  {
   "cell_type": "markdown",
   "metadata": {},
   "source": [
    "## Curiosity\n",
    "\n",
    "The code below uses the **turtle** module to draw a triangle. The picture may open in another window, so check your taskbar if nothing happened.\n",
    "\n",
    "\n",
    "Play around with the code and try to draw a square."
   ]
  },
  {
   "cell_type": "code",
   "execution_count": null,
   "metadata": {},
   "outputs": [],
   "source": [
    "import turtle                     # import turtle module\n",
    "\n",
    "wn = turtle.Screen()              # creates window\n",
    "myLittleTurtle = turtle.Turtle()  # creates turtle - turtle is used to draw\n",
    "\n",
    "for i in range(3):\n",
    "    myLittleTurtle.forward(100)   # turtle moves forward, drawing line\n",
    "    myLittleTurtle.left(120)      # turtle rotates 120 degrees\n",
    "\n",
    "wn.exitonclick()                  # close the window when you click on it"
   ]
  },
  {
   "cell_type": "markdown",
   "metadata": {},
   "source": [
    "Use turtle module to create a code that will draw a regular polygon with the number of sides read from **input()**"
   ]
  },
  {
   "cell_type": "code",
   "execution_count": null,
   "metadata": {},
   "outputs": [],
   "source": [
    "import turtle\n",
    "\n",
    "wn = turtle.Screen()\n",
    "t = turtle.Turtle()\n",
    "\n",
    "\n",
    "\n",
    "\n",
    "wn.exitonclick() "
   ]
  },
  {
   "cell_type": "markdown",
   "metadata": {},
   "source": [
    "If you liked playing with turtles you can find some more exercises on https://runestone.academy/runestone/books/published/thinkcspy/PythonTurtle/toctree.html"
   ]
  }
 ],
 "metadata": {
  "kernelspec": {
   "display_name": "Python 3",
   "language": "python",
   "name": "python3"
  },
  "language_info": {
   "codemirror_mode": {
    "name": "ipython",
    "version": 3
   },
   "file_extension": ".py",
   "mimetype": "text/x-python",
   "name": "python",
   "nbconvert_exporter": "python",
   "pygments_lexer": "ipython3",
   "version": "3.9.0"
  }
 },
 "nbformat": 4,
 "nbformat_minor": 2
}
