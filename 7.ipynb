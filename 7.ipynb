{
 "cells": [
  {
   "cell_type": "markdown",
   "metadata": {},
   "source": [
    "## Complexity\n",
    "Ex. 1. What is the complexity of functions below:"
   ]
  },
  {
   "cell_type": "code",
   "execution_count": null,
   "metadata": {},
   "outputs": [],
   "source": [
    "def f_0(a, b):\n",
    "    '''\n",
    "    a, b - integers\n",
    "    '''\n",
    "    return a*b\n",
    "#f_0 complexity: "
   ]
  },
  {
   "cell_type": "code",
   "execution_count": null,
   "metadata": {},
   "outputs": [],
   "source": [
    "def f_1(l):\n",
    "    '''\n",
    "    l - list of integers\n",
    "    '''\n",
    "    res = 0\n",
    "    for i in range(len(l)):\n",
    "        res += l[i]\n",
    "    return res\n",
    "# f_1 complexity:"
   ]
  },
  {
   "cell_type": "code",
   "execution_count": 1,
   "metadata": {},
   "outputs": [],
   "source": [
    "def f_2(l):\n",
    "    '''\n",
    "    l - list of integers\n",
    "    '''\n",
    "    res = 0\n",
    "    for i in range(len(l)):\n",
    "        res += sum(l[i:])\n",
    "    return res\n",
    "# f_2 complexity:   "
   ]
  },
  {
   "cell_type": "code",
   "execution_count": null,
   "metadata": {},
   "outputs": [],
   "source": [
    "def f_3(l1, l2):\n",
    "    '''\n",
    "    l1 - list of integers\n",
    "    l2 - list of integers\n",
    "    '''\n",
    "    res = 0\n",
    "    for i in range(len(l1)):\n",
    "        if l1[i] in l2:\n",
    "            res += l2[i]\n",
    "    return res  \n",
    "# f_3 complexity:"
   ]
  },
  {
   "cell_type": "code",
   "execution_count": null,
   "metadata": {},
   "outputs": [],
   "source": [
    "def f_4(n):\n",
    "    '''\n",
    "    n - positive integer\n",
    "    '''\n",
    "    while n > 0:\n",
    "        print(n%2, end='')\n",
    "        n //= 2\n",
    "# f_4 complexity:"
   ]
  },
  {
   "cell_type": "code",
   "execution_count": null,
   "metadata": {},
   "outputs": [],
   "source": [
    "def f_5(n):\n",
    "    '''\n",
    "    n - positive integer\n",
    "    '''\n",
    "    res = ''\n",
    "    while n > 0:\n",
    "        res += str(n%2)\n",
    "        n //= 2\n",
    "    return res\n",
    "# f_5 complexity:"
   ]
  },
  {
   "cell_type": "code",
   "execution_count": null,
   "metadata": {},
   "outputs": [],
   "source": [
    "def f_6(l):\n",
    "    '''\n",
    "    l - list of integers\n",
    "    '''\n",
    "    res = 0\n",
    "    for i in l:\n",
    "        for j in l:\n",
    "            res += i * j\n",
    "    return res\n",
    "# f_6 complexity:"
   ]
  },
  {
   "cell_type": "code",
   "execution_count": null,
   "metadata": {},
   "outputs": [],
   "source": [
    "def f_7(l):\n",
    "    '''\n",
    "    l - list of integers\n",
    "    '''\n",
    "    res = 0\n",
    "    for i in range(len(l)):\n",
    "        for j in range(i+1, len(l)):\n",
    "            res += l[i] * l[j]\n",
    "    return res\n",
    "# f_7 complexity:"
   ]
  },
  {
   "cell_type": "code",
   "execution_count": null,
   "metadata": {},
   "outputs": [],
   "source": [
    "def f_8(n):\n",
    "    '''\n",
    "    n - positive integer\n",
    "    '''\n",
    "    if n < 2: return 1\n",
    "    return n * f_8(n-1)\n",
    "# f_8 complexity:"
   ]
  },
  {
   "cell_type": "code",
   "execution_count": 1,
   "metadata": {},
   "outputs": [],
   "source": [
    "def f_9(string, words):\n",
    "    '''\n",
    "    string - some string of length S\n",
    "    words - list of strings, all equall length L\n",
    "    '''\n",
    "    found = set()\n",
    "    for w in words:\n",
    "        if string.find(w) != -1:\n",
    "            found.add(w)\n",
    "    return found\n",
    "# f_9 complexity:"
   ]
  },
  {
   "cell_type": "markdown",
   "metadata": {},
   "source": [
    "If you measure how long it takes to execute f_10 and f_11 you will find out, that one of them takes more time. If you want to train your google skills try to find out why."
   ]
  },
  {
   "cell_type": "code",
   "execution_count": null,
   "metadata": {},
   "outputs": [],
   "source": [
    "def f_10(x, y):\n",
    "    '''\n",
    "    x, y - numbers\n",
    "    '''\n",
    "    return x**y\n",
    "# f_10 complexity:"
   ]
  },
  {
   "cell_type": "code",
   "execution_count": null,
   "metadata": {},
   "outputs": [],
   "source": [
    "import math\n",
    "def f_11(x, y):\n",
    "    '''\n",
    "    x, y - numbers\n",
    "    '''\n",
    "    return math.pow(x, y)\n",
    "# f_11 complexity:"
   ]
  },
  {
   "cell_type": "markdown",
   "metadata": {},
   "source": [
    "You probably answered O(1) to f_0(). However, in Python there is no real restriction for the size of integers. Does it take the same time to multiply integers that are severl digits long and several thousand digits long?"
   ]
  },
  {
   "cell_type": "markdown",
   "metadata": {},
   "source": [
    "Ex. 2. Jan designed some really bad algorithms. Improve their complexity."
   ]
  },
  {
   "cell_type": "code",
   "execution_count": null,
   "metadata": {},
   "outputs": [],
   "source": [
    "import random\n",
    "def read_data(n):\n",
    "    '''\n",
    "    This function reads some amount of data.\n",
    "    We will replace it by getting random numbers.\n",
    "    The numbers had to be stored in a list.\n",
    "    We need them stored so that first element will be last in the list and so on.\n",
    "    '''\n",
    "    res = []\n",
    "    for i in range(n):\n",
    "        new_num = random.randint(0,100)\n",
    "        res.insert(0, new_num)\n",
    "        \n",
    "    return res\n",
    "\n",
    "def read_data_better(n):\n",
    "\n",
    "\n",
    "    return"
   ]
  },
  {
   "cell_type": "code",
   "execution_count": null,
   "metadata": {},
   "outputs": [],
   "source": [
    "import random\n",
    "def read_and_check_data(n, m):\n",
    "    '''\n",
    "    This function reads some amount of data - d1.\n",
    "    We will replace it by getting random numbers.\n",
    "    Then it reads some next amount of data - d2.\n",
    "    This also is replaced by random numbers.\n",
    "    We have to count how many numbers from d2 appeared in d1\n",
    "    '''\n",
    "    d1 = []\n",
    "    for i in range(n):\n",
    "        new_num = random.randint(0,100)\n",
    "        d1.append(new_num)\n",
    "    \n",
    "    res = 0\n",
    "    for i in range(m):\n",
    "        new_num = random.randint(0,100)\n",
    "        if new_num in d1:\n",
    "            res += 1\n",
    "    return res\n",
    "\n",
    "def read_and_check_data(n, m):\n",
    "    \n",
    "    return"
   ]
  },
  {
   "cell_type": "code",
   "execution_count": null,
   "metadata": {},
   "outputs": [],
   "source": [
    "def read_data_and_get_min(n):\n",
    "    '''\n",
    "    This function reads some amount of data\n",
    "    and writes min after each element\n",
    "    '''\n",
    "    l = []\n",
    "    for i in range(n):\n",
    "        new_num = random.randint(0,100)\n",
    "        l.append(new_num)\n",
    "        print(min(d1))\n",
    "\n",
    "def read_data_and_get_min_better(n):\n",
    "    \n",
    "    return"
   ]
  },
  {
   "cell_type": "code",
   "execution_count": null,
   "metadata": {},
   "outputs": [],
   "source": [
    "def shift_letters(s):\n",
    "    '''\n",
    "    This function shift each letter by 13\n",
    "    Assume s is composed of small letters of english alphabet\n",
    "    '''\n",
    "    res = ''\n",
    "    for c in s:\n",
    "        new_c = chr((((ord(c) - ord('a')) + 13) % 26) + ord('a'))\n",
    "        res = res + new_c\n",
    "    return res\n",
    "    \n",
    "def shift_letters_better(s):\n",
    "    \n",
    "    return"
   ]
  },
  {
   "cell_type": "markdown",
   "metadata": {},
   "source": [
    "Ex. 3. How long will the code of given complexity take to execute with the given N. You can assume, that in one seconds computer performs $10^9$ operations.\n",
    "1. $O(N)$ and $N = 10^{10}$\n",
    "2. $O(1)$ and $N = 10^{13}$\n",
    "3. $O(N^2)$ and $N = 10^{7}$\n",
    "4. $O(2^N)$ and $N = 40$"
   ]
  },
  {
   "cell_type": "markdown",
   "metadata": {},
   "source": [
    "Ex. 4. You wrote an algorithm and tested it on some simple tests.\n",
    "1. It executed in 1 seconds and its complexity is $O(N^4)$. How long it will take to execute if the size of your data ($N$) increase times $20$.\n",
    "2. It executed in 1 second and its complexity is $O(N)$. How long it will take to execute if the size of your data ($N$) increase times $1000$.\n",
    "3. It executed in 1 seconds and its complexity is $O(log(N))$. How long it will take to execute if the size of your data ($N$) increase times $10^{18}$"
   ]
  },
  {
   "cell_type": "markdown",
   "metadata": {},
   "source": [
    "Ex. 5. You have an idea for an algorithm. Estimate, how long it will take to execute.\n",
    "\n",
    "You don't have to exact, use: several seconds, several minutes, several hours, several days, a lot.\n",
    "1. You have database with $3 \\cdot 10^7$ numbers. You want to check each number vs each number. You can count this check as one simple operation.\n",
    "2. You improved your idea from 1. You noticed, that if you sort your data, then for each number you only need to check around 10000 neighbours.\n",
    "3. You improved your solution once again. It turned out, that for each number you have to check if there exist duplicate number in the data.\n",
    "4. Now that you processed your data you just have to check something for 20 biggest unique numbers. You have to check something (count as one operation) for each possible order of those 20 numbers\n"
   ]
  },
  {
   "cell_type": "code",
   "execution_count": null,
   "metadata": {},
   "outputs": [],
   "source": []
  }
 ],
 "metadata": {
  "kernelspec": {
   "display_name": "Python 3",
   "language": "python",
   "name": "python3"
  },
  "language_info": {
   "codemirror_mode": {
    "name": "ipython",
    "version": 3
   },
   "file_extension": ".py",
   "mimetype": "text/x-python",
   "name": "python",
   "nbconvert_exporter": "python",
   "pygments_lexer": "ipython3",
   "version": "3.9.0"
  }
 },
 "nbformat": 4,
 "nbformat_minor": 4
}
