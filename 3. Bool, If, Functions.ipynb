{
 "cells": [
  {
   "cell_type": "markdown",
   "metadata": {},
   "source": [
    "## Boolean type\n",
    "In Python (and almost all other languages) we have two special values **True** and **False** that are of special type **bool**."
   ]
  },
  {
   "cell_type": "code",
   "execution_count": null,
   "metadata": {},
   "outputs": [],
   "source": [
    "print(True, False, type(True), type(False))"
   ]
  },
  {
   "cell_type": "markdown",
   "metadata": {},
   "source": [
    "We have some operations that results in **bool** value: < > <= >= == !=\n",
    "\n",
    "They are usually called comparison operators.\n",
    "\n",
    "Experiment and figure out, how they work."
   ]
  },
  {
   "cell_type": "code",
   "execution_count": null,
   "metadata": {},
   "outputs": [],
   "source": [
    "print(2 < 3)"
   ]
  },
  {
   "cell_type": "markdown",
   "metadata": {},
   "source": [
    "We also have some special operators that work between **bool** values. We call them logical operators."
   ]
  },
  {
   "cell_type": "code",
   "execution_count": null,
   "metadata": {},
   "outputs": [],
   "source": [
    "print(True and True)\n",
    "print(True and False)\n",
    "print(True or False)\n",
    "print(False or False)\n",
    "print(not True, not False)"
   ]
  },
  {
   "cell_type": "markdown",
   "metadata": {},
   "source": [
    "Write the logical opposites of given expressions (do not use **not**) (you do not have to write a working code)\n",
    "```\n",
    "a > b\n",
    "a <= b\n",
    "a > 10 and b != 7\n",
    "a > 10 or b == 7\n",
    "```"
   ]
  },
  {
   "cell_type": "markdown",
   "metadata": {},
   "source": [
    "What is the order of operations in Python? Consider brackets (), math operations, comparison operators and logical operators."
   ]
  },
  {
   "cell_type": "code",
   "execution_count": null,
   "metadata": {},
   "outputs": [],
   "source": []
  },
  {
   "cell_type": "markdown",
   "metadata": {},
   "source": [
    "## If statement\n",
    "We can control whether some code will execute or nor using **if**\n",
    "```\n",
    "if condition:\n",
    "    some code\n",
    "```\n",
    "In the example above ***condition*** must be something that results in **bool** value (or can be cast to bool value)\n",
    "The ***some code*** part will execute only if ***condition*** is **True**.\n",
    "\n",
    "We can also make if else\n",
    "```\n",
    "if condition:\n",
    "    some code\n",
    "else:\n",
    "    other code\n",
    "```\n",
    "In this example, same as before, ***some code*** will execute if ***condition*** is **True**. However ***other code*** will execute when ***condition*** is **False**"
   ]
  },
  {
   "cell_type": "code",
   "execution_count": null,
   "metadata": {},
   "outputs": [],
   "source": [
    "if 2 > 1:\n",
    "    print(\"2 is greater than 1\")\n",
    "else:\n",
    "    print(\"This code should not be printed\")\n",
    "    \n",
    "if 2 < 1:\n",
    "    print(\"This code should not be printed as well\")\n",
    "else:\n",
    "    print(\"2 is not smaller than 1\")"
   ]
  },
  {
   "cell_type": "markdown",
   "metadata": {},
   "source": [
    "## Functions\n",
    "Functions let you isolate some parts of code to better organize your program. Let us write some simple function that writes some lines."
   ]
  },
  {
   "cell_type": "code",
   "execution_count": null,
   "metadata": {},
   "outputs": [],
   "source": [
    "def print_some_lines():\n",
    "    print(\"1 line\")\n",
    "    print(\"2 line\")\n",
    "    print(\"3 line\")"
   ]
  },
  {
   "cell_type": "markdown",
   "metadata": {},
   "source": [
    "Running the above cell did not print anything. It, however, prepared a function, we can now use."
   ]
  },
  {
   "cell_type": "code",
   "execution_count": null,
   "metadata": {},
   "outputs": [],
   "source": [
    "print_some_lines()"
   ]
  },
  {
   "cell_type": "markdown",
   "metadata": {},
   "source": [
    "We can pass arguments to functions to make them more interesting. You can pass as many arguments as you want."
   ]
  },
  {
   "cell_type": "code",
   "execution_count": null,
   "metadata": {},
   "outputs": [],
   "source": [
    "def some_function(n):\n",
    "    print(\"You passed\", n, \"to this function!\")"
   ]
  },
  {
   "cell_type": "code",
   "execution_count": null,
   "metadata": {},
   "outputs": [],
   "source": [
    "some_function(1)\n",
    "some_function(2)\n",
    "a = 10\n",
    "some_function(a)"
   ]
  },
  {
   "cell_type": "markdown",
   "metadata": {},
   "source": [
    "Functions can also return values."
   ]
  },
  {
   "cell_type": "code",
   "execution_count": null,
   "metadata": {},
   "outputs": [],
   "source": [
    "def simple_sum(a, b):\n",
    "    res = a + b\n",
    "    return res"
   ]
  },
  {
   "cell_type": "code",
   "execution_count": null,
   "metadata": {},
   "outputs": [],
   "source": [
    "print(simple_sum(1, 2))\n",
    "a = simple_sum(4, 5)\n",
    "print(a)"
   ]
  },
  {
   "cell_type": "markdown",
   "metadata": {},
   "source": [
    "## Exercises\n",
    "\n",
    "Exercises for this Labs can be found on ekursy.put.poznan.pl\n",
    "\n",
    "Please note, that there are deadlines for them."
   ]
  }
 ],
 "metadata": {
  "kernelspec": {
   "display_name": "Python 3",
   "language": "python",
   "name": "python3"
  },
  "language_info": {
   "codemirror_mode": {
    "name": "ipython",
    "version": 3
   },
   "file_extension": ".py",
   "mimetype": "text/x-python",
   "name": "python",
   "nbconvert_exporter": "python",
   "pygments_lexer": "ipython3",
   "version": "3.9.0"
  }
 },
 "nbformat": 4,
 "nbformat_minor": 2
}
