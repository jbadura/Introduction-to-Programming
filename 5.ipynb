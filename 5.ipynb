{
 "cells": [
  {
   "cell_type": "markdown",
   "metadata": {},
   "source": [
    "## slicing\n",
    "Slicing is a notation, that lets you retrieve several items from a list (or a string).\n",
    "Instad of using just **\\[index\\]** in brackets you can write **\\[start:end\\]** or **\\[start:end:step\\]**.\n",
    "Examine the examples below."
   ]
  },
  {
   "cell_type": "code",
   "execution_count": null,
   "metadata": {},
   "outputs": [],
   "source": [
    "l = [0, 1, 2, 3, 4, 5, 6, 7, 8, 9, 10]\n",
    "print(l[1:4])\n",
    "print(l[:3])\n",
    "print(l[6:])\n",
    "print(l[:])\n",
    "print(l[1:8:2])"
   ]
  },
  {
   "cell_type": "markdown",
   "metadata": {},
   "source": [
    "## lists\n",
    "There are some build in functions related to lists. You can check them https://docs.python.org/3/tutorial/datastructures.html#more-on-lists"
   ]
  },
  {
   "cell_type": "markdown",
   "metadata": {},
   "source": [
    "## strings\n",
    "While working with strings in Python you have to remember they are immutable. That means the code below will return error."
   ]
  },
  {
   "cell_type": "code",
   "execution_count": null,
   "metadata": {},
   "outputs": [],
   "source": [
    "s = 'string'\n",
    "s[1] = 'a'"
   ]
  },
  {
   "cell_type": "markdown",
   "metadata": {},
   "source": [
    "You can easily create a list of letters from given string and then put it back together using join() function."
   ]
  },
  {
   "cell_type": "code",
   "execution_count": null,
   "metadata": {},
   "outputs": [],
   "source": [
    "s = 'string'\n",
    "l = list(s)\n",
    "l[1] = 'a'\n",
    "print(l)\n",
    "s = ''.join(l)\n",
    "print(s)\n",
    "s = ';'.join(l)\n",
    "print(s)"
   ]
  },
  {
   "cell_type": "markdown",
   "metadata": {},
   "source": [
    "Strings in python have many usefull functions already implemented. You will probably never use some of them, but you should at least once check them https://docs.python.org/3/library/stdtypes.html#string-methods"
   ]
  },
  {
   "cell_type": "markdown",
   "metadata": {},
   "source": [
    "## dictionaries\n",
    "Dictionary is a special container that lets you store values under specific names."
   ]
  },
  {
   "cell_type": "code",
   "execution_count": null,
   "metadata": {},
   "outputs": [],
   "source": [
    "d = {}                    # creates empty dictionary\n",
    "d['my_key'] = 'my_value'  # we can put new values in dictionary just by assigning them to some key\n",
    "d[1] = 123\n",
    "d['1'] = 'qwerty'\n",
    "print(d)                 # we can print the whole dictionary\n",
    "print(d['my_key'])       # we can access values using the key we used before \n",
    "print(d[1])\n",
    "print('1')"
   ]
  },
  {
   "cell_type": "markdown",
   "metadata": {},
   "source": [
    "If you try to retrieve value that did not exist in the dictionary you will get an error"
   ]
  },
  {
   "cell_type": "code",
   "execution_count": null,
   "metadata": {},
   "outputs": [],
   "source": [
    "d = {}\n",
    "print(d[1])"
   ]
  },
  {
   "cell_type": "markdown",
   "metadata": {},
   "source": [
    "You can check if some key was already used using **in** or use function get() that returns *None* or predefined value."
   ]
  },
  {
   "cell_type": "code",
   "execution_count": null,
   "metadata": {},
   "outputs": [],
   "source": [
    "d = {}\n",
    "key = 'aaa'\n",
    "if key in d:\n",
    "    print(d[key])\n",
    "else:\n",
    "    print('There is no {} in your dictionary'.format(key))\n",
    "    \n",
    "print()\n",
    "print(d.get(key))\n",
    "print(d.get(key, 'No key in this dict'))"
   ]
  },
  {
   "cell_type": "markdown",
   "metadata": {},
   "source": [
    "You can create dictionary with some key:value pairs already in it. You can also use dictionary comprehension that works similarly to list comprehension."
   ]
  },
  {
   "cell_type": "code",
   "execution_count": null,
   "metadata": {},
   "outputs": [],
   "source": [
    "import string\n",
    "\n",
    "d1 = {1:'something', '1':'something else', 'aaa':123}\n",
    "print(d1)\n",
    "\n",
    "print()\n",
    "print(string.ascii_lowercase)\n",
    "d2 = {x:0 for x in string.ascii_lowercase}\n",
    "print(d2)"
   ]
  },
  {
   "cell_type": "markdown",
   "metadata": {},
   "source": [
    "There are several ways to iterate over dictionary. Examine examples below."
   ]
  },
  {
   "cell_type": "code",
   "execution_count": null,
   "metadata": {},
   "outputs": [],
   "source": [
    "d = {1:'something', '1':'something else', 'aaa':123}\n",
    "\n",
    "print(d.keys())\n",
    "print(d.values())\n",
    "print(d.items())\n",
    "\n",
    "for k in d:\n",
    "    print(k, d[k], end='\\t')\n",
    "print()\n",
    "\n",
    "for k in d.keys():\n",
    "    print(k, d[k], end='\\t')\n",
    "print()\n",
    "    \n",
    "for v in d.values():\n",
    "    print(v, end='\\t')  # no access to key \n",
    "print()\n",
    "\n",
    "for k, v in d.items():\n",
    "    print(k, v, end='\\t')\n",
    "print()"
   ]
  },
  {
   "cell_type": "markdown",
   "metadata": {},
   "source": [
    "## Exercises\n",
    "Ex. 1. Use slicing notation to get:\n",
    " - first *n* items\n",
    " - last *n* items\n",
    " - all but first *n* items\n",
    " - all but last *n* items\n",
    " - every *n*th element (from beggining)\n",
    " - reverse the list"
   ]
  },
  {
   "cell_type": "code",
   "execution_count": null,
   "metadata": {},
   "outputs": [],
   "source": [
    "l = [0, 1, 2, 3, 4, 5, 6, 7, 8, 9, 10]\n",
    "print(l[:])\n",
    "print(l[:])\n",
    "print(l[:])\n",
    "print(l[:])\n",
    "print(l[:])\n",
    "print(l[:])"
   ]
  },
  {
   "cell_type": "markdown",
   "metadata": {},
   "source": [
    "Ex. 2. Write a function that returns a number of digits of an integer."
   ]
  },
  {
   "cell_type": "code",
   "execution_count": null,
   "metadata": {},
   "outputs": [],
   "source": [
    "def count_digits(n):\n",
    "    \n",
    "    return\n",
    "\n",
    "if count_digits(123) == 3 and count_digits(1) == 1 and count_digits(12342938473) == 11:\n",
    "    print('Correct')\n",
    "else:\n",
    "    print('Incorrect')"
   ]
  },
  {
   "cell_type": "markdown",
   "metadata": {},
   "source": [
    "Ex. 3. Write a function that removes each occurrence of a given letter from a string. (Of course strings are immutable, so return new string without this letter.)"
   ]
  },
  {
   "cell_type": "code",
   "execution_count": null,
   "metadata": {},
   "outputs": [],
   "source": [
    "def rm_let_from_str(letter, string):\n",
    "    \n",
    "    return\n",
    "\n",
    "if rm_let_from_str('a', 'apple') == 'pple' and rm_let_from_str('s', 'somestringwithmoreletters') == 'ometringwithmoreletter' and rm_let_from_str('a', 'aaaaaa') == '':\n",
    "    print('Correct')\n",
    "else:\n",
    "    print('Incorrect')\n",
    "    "
   ]
  },
  {
   "cell_type": "markdown",
   "metadata": {},
   "source": [
    "Ex 4. Write function that recognizes whether something is a palindrome."
   ]
  },
  {
   "cell_type": "code",
   "execution_count": null,
   "metadata": {},
   "outputs": [],
   "source": [
    "def is_palindrome(s):\n",
    "    \n",
    "    return\n",
    "\n",
    "if is_palindrome('aaaaa') and is_palindrome('ababa') and not is_palindrome('aaabbb'):\n",
    "    print('Correct')\n",
    "else:\n",
    "    print('Incorrect')"
   ]
  },
  {
   "cell_type": "markdown",
   "metadata": {},
   "source": [
    "Ex. 5. Write a function that counts how many non-overlapping occurrences of a substring appear in a string."
   ]
  },
  {
   "cell_type": "code",
   "execution_count": null,
   "metadata": {},
   "outputs": [],
   "source": [
    "def count_occ(string, substring):\n",
    "    \n",
    "    return\n",
    "\n",
    "if count_occ('banana', 'na') == 2 and count_occ('aaaaaaaa', 'aa') == 4 and count_occ('banana', 'h') == 0:\n",
    "    print('Correct')\n",
    "else:\n",
    "    print('Incorrect')"
   ]
  },
  {
   "cell_type": "markdown",
   "metadata": {},
   "source": [
    "Ex. 6. Write a function that removes duplicate letters from a string (only the first occurance of a letter is kept)."
   ]
  },
  {
   "cell_type": "code",
   "execution_count": null,
   "metadata": {},
   "outputs": [],
   "source": [
    "def remove_dup(s):\n",
    "    \n",
    "    return\n",
    "\n",
    "if remove_dup('aaaaa') == 'a' and remove_dup('abababab') == 'ab' and remove_dup('abcbasdbrwefj') == 'abcsdrwefj':\n",
    "    print('Correct')\n",
    "else:\n",
    "    print('Incorrect')"
   ]
  },
  {
   "cell_type": "markdown",
   "metadata": {},
   "source": [
    "Ex. 7. Implement the following list functions on your own."
   ]
  },
  {
   "cell_type": "code",
   "execution_count": null,
   "metadata": {},
   "outputs": [],
   "source": [
    "def count(list, x):\n",
    "    '''\n",
    "    Return the number of times x appears in the list.\n",
    "    '''\n",
    "    \n",
    "    return\n",
    "\n",
    "\n",
    "# There is no in function, implement keyword in\n",
    "def is_in(list, x):\n",
    "    '''\n",
    "    Returns True if x is in list and False otherwise\n",
    "    '''\n",
    "    \n",
    "    return\n",
    "\n",
    "\n",
    "def index(list, x):\n",
    "    '''\n",
    "    Return zero-based index in the list of the first item whose value is equal to x.\n",
    "    Return -1 if there is no such item.\n",
    "    '''\n",
    "    \n",
    "    return\n",
    " \n",
    "    \n",
    "def insert(list, x, pos):\n",
    "    '''\n",
    "    Insert an item at a given position.\n",
    "    '''\n",
    "    \n",
    "    return"
   ]
  },
  {
   "cell_type": "markdown",
   "metadata": {},
   "source": [
    "Ex. 8. Write a program that counts the number of occurrences of each letter (case insensitive) in a given string."
   ]
  },
  {
   "cell_type": "code",
   "execution_count": null,
   "metadata": {},
   "outputs": [],
   "source": [
    "s = '''In computer programming, a string is traditionally a sequence of characters, either as a literal constant or as some kind of variable. The latter may allow its elements to be mutated and the length changed, or it may be fixed (after creation).\n",
    "A string is generally considered as a data type and is often implemented as an array data structure of bytes (or words) that stores a sequence of elements, typically characters, using some character encoding. String may also denote more general arrays or other sequence (or list) data types and structures.\n",
    "Depending on the programming language and precise data type used, a variable declared to be a string may either cause storage in memory to be statically allocated for a predetermined maximum length or employ dynamic allocation to allow it to hold a variable number of elements.\n",
    "When a string appears literally in source code, it is known as a string literal or an anonymous string.[1]\n",
    "In formal languages, which are used in mathematical logic and theoretical computer science, a string is a finite sequence of symbols that are chosen from a set called an alphabet.'''\n"
   ]
  }
 ],
 "metadata": {
  "kernelspec": {
   "display_name": "Python 3",
   "language": "python",
   "name": "python3"
  },
  "language_info": {
   "codemirror_mode": {
    "name": "ipython",
    "version": 3
   },
   "file_extension": ".py",
   "mimetype": "text/x-python",
   "name": "python",
   "nbconvert_exporter": "python",
   "pygments_lexer": "ipython3",
   "version": "3.7.0"
  }
 },
 "nbformat": 4,
 "nbformat_minor": 2
}
