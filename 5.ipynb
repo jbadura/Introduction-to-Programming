{
 "cells": [
  {
   "cell_type": "markdown",
   "metadata": {},
   "source": [
    "## slicing\n",
    "Slicing is a notation, that lets you retrieve several items from a list (or a string).\n",
    "Instad of using just **\\[index\\]** in brackets you can write **\\[start:end\\]** or **\\[start:end:step\\]**.\n",
    "Examine the examples below."
   ]
  },
  {
   "cell_type": "code",
   "execution_count": null,
   "metadata": {},
   "outputs": [],
   "source": [
    "l = [0, 1, 2, 3, 4, 5, 6, 7, 8, 9, 10]\n",
    "print(l[1:4])\n",
    "print(l[:3])\n",
    "print(l[6:])\n",
    "print(l[:])\n",
    "print(l[1:8:2])"
   ]
  },
  {
   "cell_type": "markdown",
   "metadata": {},
   "source": [
    "Think about how you can use slicing to get the following results:\n",
    " - first *n* items\n",
    " - last *n* items\n",
    " - all but first *n* items\n",
    " - all but last *n* items\n",
    " - every *n*th element (from beggining)\n",
    " - reverse the list"
   ]
  },
  {
   "cell_type": "markdown",
   "metadata": {},
   "source": [
    "## lists\n",
    "There are some build in functions related to lists. You should check them https://docs.python.org/3/tutorial/datastructures.html#more-on-lists"
   ]
  },
  {
   "cell_type": "markdown",
   "metadata": {},
   "source": [
    "## strings\n",
    "While working with strings in Python you have to remember they are immutable. That means the code below will return error."
   ]
  },
  {
   "cell_type": "code",
   "execution_count": null,
   "metadata": {},
   "outputs": [],
   "source": [
    "s = 'string'\n",
    "s[1] = 'a'"
   ]
  },
  {
   "cell_type": "markdown",
   "metadata": {},
   "source": [
    "You can easily create a list of letters from given string and then put it back together using join() function."
   ]
  },
  {
   "cell_type": "code",
   "execution_count": null,
   "metadata": {},
   "outputs": [],
   "source": [
    "s = 'string'\n",
    "l = list(s)\n",
    "l[1] = 'a'\n",
    "print(l)\n",
    "s = ''.join(l)\n",
    "print(s)\n",
    "s = ';'.join(l)\n",
    "print(s)"
   ]
  },
  {
   "cell_type": "markdown",
   "metadata": {},
   "source": [
    "Strings in python have many usefull functions already implemented. You will probably never use some of them, but you should at least once check them https://docs.python.org/3/library/stdtypes.html#string-methods"
   ]
  },
  {
   "cell_type": "markdown",
   "metadata": {},
   "source": [
    "## dictionaries\n",
    "Dictionary is a special container that lets you store values under specific names."
   ]
  },
  {
   "cell_type": "code",
   "execution_count": null,
   "metadata": {},
   "outputs": [],
   "source": [
    "d = {}                    # creates empty dictionary\n",
    "d['my_key'] = 'my_value'  # we can put new values in dictionary just by assigning them to some key\n",
    "d[1] = 123\n",
    "d['1'] = 'qwerty'\n",
    "print(d)                 # we can print the whole dictionary\n",
    "print(d['my_key'])       # we can access values using the key we used before \n",
    "print(d[1])\n",
    "print('1')"
   ]
  },
  {
   "cell_type": "markdown",
   "metadata": {},
   "source": [
    "If you try to retrieve value that did not exist in the dictionary you will get an error"
   ]
  },
  {
   "cell_type": "code",
   "execution_count": null,
   "metadata": {},
   "outputs": [],
   "source": [
    "d = {}\n",
    "print(d[1])"
   ]
  },
  {
   "cell_type": "markdown",
   "metadata": {},
   "source": [
    "You can check if some key was already used using **in** or use function get() that returns *None* or predefined value."
   ]
  },
  {
   "cell_type": "code",
   "execution_count": null,
   "metadata": {},
   "outputs": [],
   "source": [
    "d = {}\n",
    "key = 'aaa'\n",
    "if key in d:\n",
    "    print(d[key])\n",
    "else:\n",
    "    print('There is no {} in your dictionary'.format(key))\n",
    "    \n",
    "print()\n",
    "print(d.get(key))\n",
    "print(d.get(key, 'No key in this dict'))"
   ]
  },
  {
   "cell_type": "markdown",
   "metadata": {},
   "source": [
    "You can create dictionary with some key:value pairs already in it. You can also use dictionary comprehension that works similarly to list comprehension."
   ]
  },
  {
   "cell_type": "code",
   "execution_count": null,
   "metadata": {},
   "outputs": [],
   "source": [
    "import string\n",
    "\n",
    "d1 = {1:'something', '1':'something else', 'aaa':123}\n",
    "print(d1)\n",
    "\n",
    "print()\n",
    "print(string.ascii_lowercase)\n",
    "d2 = {x:0 for x in string.ascii_lowercase}\n",
    "print(d2)"
   ]
  },
  {
   "cell_type": "markdown",
   "metadata": {},
   "source": [
    "There are several ways to iterate over dictionary. Examine examples below."
   ]
  },
  {
   "cell_type": "code",
   "execution_count": null,
   "metadata": {},
   "outputs": [],
   "source": [
    "d = {1:'something', '1':'something else', 'aaa':123}\n",
    "\n",
    "print(d.keys())\n",
    "print(d.values())\n",
    "print(d.items())\n",
    "\n",
    "for k in d:\n",
    "    print(k, d[k], end='\\t')\n",
    "print()\n",
    "\n",
    "for k in d.keys():\n",
    "    print(k, d[k], end='\\t')\n",
    "print()\n",
    "    \n",
    "for v in d.values():\n",
    "    print(v, end='\\t')  # no access to key \n",
    "print()\n",
    "\n",
    "for k, v in d.items():\n",
    "    print(k, v, end='\\t')\n",
    "print()"
   ]
  },
  {
   "cell_type": "markdown",
   "metadata": {},
   "source": [
    "## Exercises\n",
    "\n",
    "Exercises for this Labs can be found here: www.hackerrank.com/lab-5-2122\n",
    "\n",
    "The deadline is 12.11.2021 23:45"
   ]
  }
 ],
 "metadata": {
  "kernelspec": {
   "display_name": "Python 3",
   "language": "python",
   "name": "python3"
  },
  "language_info": {
   "codemirror_mode": {
    "name": "ipython",
    "version": 3
   },
   "file_extension": ".py",
   "mimetype": "text/x-python",
   "name": "python",
   "nbconvert_exporter": "python",
   "pygments_lexer": "ipython3",
   "version": "3.9.0"
  }
 },
 "nbformat": 4,
 "nbformat_minor": 2
}
